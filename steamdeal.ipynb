{
 "cells": [
  {
   "cell_type": "code",
   "execution_count": 5,
   "id": "584bb7d4-98dc-4733-9581-c3c67347cb06",
   "metadata": {
    "scrolled": true
   },
   "outputs": [
    {
     "name": "stdout",
     "output_type": "stream",
     "text": [
      "6\n"
     ]
    },
    {
     "data": {
      "text/markdown": [
       "Page: 6"
      ],
      "text/plain": [
       "<IPython.core.display.Markdown object>"
      ]
     },
     "metadata": {},
     "output_type": "display_data"
    },
    {
     "data": {
      "application/vnd.jupyter.widget-view+json": {
       "model_id": "92554dae72964f6e9a43dbe332891ea8",
       "version_major": 2,
       "version_minor": 0
      },
      "text/plain": [
       "Dropdown(description='Sort by:', options=(('Price Ascending', 'asc'), ('Price Descending', 'desc'), ('A-Z', 'a…"
      ]
     },
     "metadata": {},
     "output_type": "display_data"
    },
    {
     "data": {
      "text/markdown": [
       "## Slab"
      ],
      "text/plain": [
       "<IPython.core.display.Markdown object>"
      ]
     },
     "metadata": {},
     "output_type": "display_data"
    },
    {
     "data": {
      "text/html": [
       "<a href=\"https://www.cheapshark.com/redirect?dealID=squdghqW3pyCOxoRKVp4grTAo8B6UYnfwe59dOoMHUc%3D\" target=\"_blank\"><img src=\"https://cdn.cloudflare.steamstatic.com/steam/apps/844180/capsule_sm_120.jpg?t=1670401536\" alt=\"Slab\" width=\"200\"></a>"
      ],
      "text/plain": [
       "<IPython.core.display.HTML object>"
      ]
     },
     "metadata": {},
     "output_type": "display_data"
    },
    {
     "name": "stdout",
     "output_type": "stream",
     "text": [
      "Price: $1.99\n"
     ]
    },
    {
     "data": {
      "text/markdown": [
       "## Lost"
      ],
      "text/plain": [
       "<IPython.core.display.Markdown object>"
      ]
     },
     "metadata": {},
     "output_type": "display_data"
    },
    {
     "data": {
      "text/html": [
       "<a href=\"https://www.cheapshark.com/redirect?dealID=sflTXds7g63kLF%2BYVod%2F7nU0UN5YwAEvCI%2FsD1IAO7M%3D\" target=\"_blank\"><img src=\"https://cdn.cloudflare.steamstatic.com/steam/apps/1126290/capsule_sm_120.jpg?t=1695900168\" alt=\"Lost\" width=\"200\"></a>"
      ],
      "text/plain": [
       "<IPython.core.display.HTML object>"
      ]
     },
     "metadata": {},
     "output_type": "display_data"
    },
    {
     "name": "stdout",
     "output_type": "stream",
     "text": [
      "Price: $1.99\n"
     ]
    },
    {
     "data": {
      "text/markdown": [
       "## ELEA"
      ],
      "text/plain": [
       "<IPython.core.display.Markdown object>"
      ]
     },
     "metadata": {},
     "output_type": "display_data"
    },
    {
     "data": {
      "text/html": [
       "<a href=\"https://www.cheapshark.com/redirect?dealID=bzce%2Bgmjn6R3XFp84qVRQNMLJ6Oqjo0nRSBfZjMGARw%3D\" target=\"_blank\"><img src=\"https://cdn.cloudflare.steamstatic.com/steam/apps/1122150/capsule_sm_120.jpg?t=1590133565\" alt=\"ELEA\" width=\"200\"></a>"
      ],
      "text/plain": [
       "<IPython.core.display.HTML object>"
      ]
     },
     "metadata": {},
     "output_type": "display_data"
    },
    {
     "name": "stdout",
     "output_type": "stream",
     "text": [
      "Price: $1.99\n"
     ]
    },
    {
     "data": {
      "text/markdown": [
       "## Live"
      ],
      "text/plain": [
       "<IPython.core.display.Markdown object>"
      ]
     },
     "metadata": {},
     "output_type": "display_data"
    },
    {
     "data": {
      "text/html": [
       "<a href=\"https://www.cheapshark.com/redirect?dealID=FCxRyB73mny8XsUrXYER20LgT3m%2FBUxJ%2FEB1ExBiOlo%3D\" target=\"_blank\"><img src=\"https://cdn.cloudflare.steamstatic.com/steam/apps/696060/capsule_sm_120.jpg?t=1567709199\" alt=\"Live\" width=\"200\"></a>"
      ],
      "text/plain": [
       "<IPython.core.display.HTML object>"
      ]
     },
     "metadata": {},
     "output_type": "display_data"
    },
    {
     "name": "stdout",
     "output_type": "stream",
     "text": [
      "Price: $1.99\n"
     ]
    },
    {
     "data": {
      "text/markdown": [
       "## -July"
      ],
      "text/plain": [
       "<IPython.core.display.Markdown object>"
      ]
     },
     "metadata": {},
     "output_type": "display_data"
    },
    {
     "data": {
      "text/html": [
       "<a href=\"https://www.cheapshark.com/redirect?dealID=YWm3hr11e4EV9hxfq888uSwJEIe10EfeWvMJvL7AySg%3D\" target=\"_blank\"><img src=\"https://cdn.cloudflare.steamstatic.com/steam/apps/1959780/capsule_sm_120.jpg?t=1652947446\" alt=\"-July\" width=\"200\"></a>"
      ],
      "text/plain": [
       "<IPython.core.display.HTML object>"
      ]
     },
     "metadata": {},
     "output_type": "display_data"
    },
    {
     "name": "stdout",
     "output_type": "stream",
     "text": [
      "Price: $1.99\n"
     ]
    },
    {
     "data": {
      "text/markdown": [
       "## Blon"
      ],
      "text/plain": [
       "<IPython.core.display.Markdown object>"
      ]
     },
     "metadata": {},
     "output_type": "display_data"
    },
    {
     "data": {
      "text/html": [
       "<a href=\"https://www.cheapshark.com/redirect?dealID=sOeyNXoXOFe6NiNnnUQ8N%2FRr6FMiEw9yxNSeqRBb0io%3D\" target=\"_blank\"><img src=\"https://cdn.cloudflare.steamstatic.com/steam/apps/1582990/capsule_sm_120.jpg?t=1631176608\" alt=\"Blon\" width=\"200\"></a>"
      ],
      "text/plain": [
       "<IPython.core.display.HTML object>"
      ]
     },
     "metadata": {},
     "output_type": "display_data"
    },
    {
     "name": "stdout",
     "output_type": "stream",
     "text": [
      "Price: $1.68\n"
     ]
    },
    {
     "data": {
      "text/markdown": [
       "## LP"
      ],
      "text/plain": [
       "<IPython.core.display.Markdown object>"
      ]
     },
     "metadata": {},
     "output_type": "display_data"
    },
    {
     "data": {
      "text/html": [
       "<a href=\"https://www.cheapshark.com/redirect?dealID=GSCFLQzGvh%2BWU9XFCPVcEGTZ9A7BCPafIVXuLOt2N3M%3D\" target=\"_blank\"><img src=\"https://cdn.cloudflare.steamstatic.com/steam/apps/1440850/capsule_sm_120.jpg?t=1693953736\" alt=\"LP\" width=\"200\"></a>"
      ],
      "text/plain": [
       "<IPython.core.display.HTML object>"
      ]
     },
     "metadata": {},
     "output_type": "display_data"
    },
    {
     "name": "stdout",
     "output_type": "stream",
     "text": [
      "Price: $0.99\n"
     ]
    },
    {
     "data": {
      "text/markdown": [
       "## L.S.S"
      ],
      "text/plain": [
       "<IPython.core.display.Markdown object>"
      ]
     },
     "metadata": {},
     "output_type": "display_data"
    },
    {
     "data": {
      "text/html": [
       "<a href=\"https://www.cheapshark.com/redirect?dealID=z8psb0vkKL8fK9P1GAtK7%2FXlL%2BmCiJ%2BVxbT4FU1ycQg%3D\" target=\"_blank\"><img src=\"https://cdn.cloudflare.steamstatic.com/steam/apps/701760/capsule_sm_120.jpg?t=1687256920\" alt=\"L.S.S\" width=\"200\"></a>"
      ],
      "text/plain": [
       "<IPython.core.display.HTML object>"
      ]
     },
     "metadata": {},
     "output_type": "display_data"
    },
    {
     "name": "stdout",
     "output_type": "stream",
     "text": [
      "Price: $0.99\n"
     ]
    },
    {
     "data": {
      "text/markdown": [
       "## Slip"
      ],
      "text/plain": [
       "<IPython.core.display.Markdown object>"
      ]
     },
     "metadata": {},
     "output_type": "display_data"
    },
    {
     "data": {
      "text/html": [
       "<a href=\"https://www.cheapshark.com/redirect?dealID=Pcun%2BMl6bKeV%2FLip8kbcyoYxT%2FVoKsSln8%2BtyYcRqR8%3D\" target=\"_blank\"><img src=\"https://cdn.cloudflare.steamstatic.com/steam/apps/291070/capsule_sm_120.jpg?t=1447361061\" alt=\"Slip\" width=\"200\"></a>"
      ],
      "text/plain": [
       "<IPython.core.display.HTML object>"
      ]
     },
     "metadata": {},
     "output_type": "display_data"
    },
    {
     "name": "stdout",
     "output_type": "stream",
     "text": [
      "Price: $0.99\n"
     ]
    },
    {
     "data": {
      "text/markdown": [
       "## Gelu"
      ],
      "text/plain": [
       "<IPython.core.display.Markdown object>"
      ]
     },
     "metadata": {},
     "output_type": "display_data"
    },
    {
     "data": {
      "text/html": [
       "<a href=\"https://www.cheapshark.com/redirect?dealID=QyUIU2L0CjF2y%2F6%2BDyZhH74JSFRfA%2FC%2FUeHy4L9XusQ%3D\" target=\"_blank\"><img src=\"https://cdn.cloudflare.steamstatic.com/steam/apps/664610/capsule_sm_120.jpg?t=1554112830\" alt=\"Gelu\" width=\"200\"></a>"
      ],
      "text/plain": [
       "<IPython.core.display.HTML object>"
      ]
     },
     "metadata": {},
     "output_type": "display_data"
    },
    {
     "name": "stdout",
     "output_type": "stream",
     "text": [
      "Price: $0.49\n"
     ]
    },
    {
     "data": {
      "application/vnd.jupyter.widget-view+json": {
       "model_id": "2c5f05576e354531b793b22213ff942f",
       "version_major": 2,
       "version_minor": 0
      },
      "text/plain": [
       "HBox(children=(Button(description='Previous Page', style=ButtonStyle()), Button(description='Next Page', disab…"
      ]
     },
     "metadata": {},
     "output_type": "display_data"
    }
   ],
   "source": [
    "import ipywidgets as widgets\n",
    "from IPython.display import display, HTML, Markdown, clear_output\n",
    "import requests\n",
    "import math\n",
    "import keyboard\n",
    "\n",
    "base_url = 'https://www.cheapshark.com/api/1.0/games'\n",
    "\n",
    "\n",
    "search_button = widgets.Button(description='Search')\n",
    "title_input = widgets.Text(value='', description='Enter Game:')\n",
    "\n",
    "search_box = widgets.HBox([title_input, search_button])\n",
    "search_box.layout.width = '400px'\n",
    "output = widgets.Output()  # Use the same output widget consistently\n",
    "page_number = widgets.IntText(value=1, description='Page:')\n",
    "prev_page_button = widgets.Button(description='Previous Page', disabled=True)\n",
    "next_page_button = widgets.Button(description='Next Page')\n",
    "page_size = 10  # Number of results per page\n",
    "\n",
    "options = [\n",
    "    (\"Price Ascending\", \"asc\"),\n",
    "    (\"Price Descending\", \"desc\"),\n",
    "    (\"A-Z\", \"az\")\n",
    "]\n",
    "dropdown = widgets.Dropdown(\n",
    "    options=options,\n",
    "    description='Sort by:',\n",
    "    value=\"asc\"\n",
    ")\n",
    "\n",
    "sorting_type = dropdown.value\n",
    "\n",
    "searched = False  # Track whether a search has been performed\n",
    "\n",
    "def search_game(b):\n",
    "    global searched\n",
    "    global total_pages\n",
    "    searched = True\n",
    "    prev_page_button.disabled = True\n",
    "    with output:\n",
    "        clear_output()\n",
    "        title = title_input.value\n",
    "        results, total_results = get_game_results(title)\n",
    "        \n",
    "        if results:\n",
    "            total_pages = math.ceil(y/page_size)\n",
    "            # Reset the page number to 1 when a new search is performed\n",
    "            page_number.value /= page_number.value\n",
    "            display_pagination()\n",
    "            display_paginated_results(results, page_number.value, page_size)\n",
    "            display(widgets.HBox([prev_page_button, next_page_button]))\n",
    "            \n",
    "\n",
    "def get_game_results(title):\n",
    "    global results, y\n",
    "    url = f'{base_url}?title={title}'\n",
    "    response = requests.get(url).json()\n",
    "    results = []\n",
    "    x=[]\n",
    "\n",
    "    for game in response:\n",
    "        external = game['external']\n",
    "        image_url = game['thumb']\n",
    "        deal_id = game['cheapestDealID']\n",
    "        price = game['cheapest']\n",
    "        results.append((external, image_url, deal_id, price))\n",
    "        x.append(external)\n",
    "    y = len(x)\n",
    "    return results, y\n",
    "\n",
    "\n",
    "                     \n",
    "def on_dropdown_change(change):\n",
    "    selected_option = change['new']\n",
    "#     print(selected_option)\n",
    "    sort_and_display_results(selected_option, results)     \n",
    "    \n",
    "\n",
    "def sort_and_display_results(change, results):\n",
    "    global sorted_results\n",
    "    selected_option = change\n",
    "#     print(change)\n",
    "    page_number.value /= page_number.value\n",
    "    with output:\n",
    "        if selected_option == \"asc\":\n",
    "            sorted_results = sorted(results, key=lambda x: float(x[3]))\n",
    "        elif selected_option == \"desc\":\n",
    "            sorted_results = sorted(results, key=lambda x: float(x[3]), reverse=True)\n",
    "        elif selected_option == \"az\":\n",
    "            sorted_results = sorted(results, key=lambda x: x[0])\n",
    "           \n",
    "    with output:\n",
    "        clear_output()\n",
    "        title = title_input.value\n",
    "        results, total_results = get_game_results(title)\n",
    "        if results:\n",
    "            display_pagination()\n",
    "            display_paginated_results(sorted_results, page_number.value, page_size)\n",
    "            display(widgets.HBox([prev_page_button, next_page_button]))\n",
    "\n",
    "\n",
    "\n",
    "\n",
    "def display_pagination():\n",
    "    if searched:\n",
    "        display(Markdown(f\"Page: {page_number.value}\"))\n",
    "        display(dropdown)\n",
    "        \n",
    "def display_paginated_results(results, page, page_size):\n",
    "    \n",
    "    start_index = (page - 1 ) * page_size\n",
    "    end_index = start_index + page_size\n",
    "    \n",
    "    for result in results[start_index:end_index]:\n",
    "        title, image_url, deal_id, price = result\n",
    "        display(Markdown(f\"## {title}\"))\n",
    "        display(HTML(f'<a href=\"https://www.cheapshark.com/redirect?dealID={deal_id}\" target=\"_blank\"><img src=\"{image_url}\" alt=\"{title}\" width=\"200\"></a>'))\n",
    "        print(f\"Price: ${price}\")\n",
    "\n",
    "def previous_page(b):\n",
    "    if page_number.value > 1:\n",
    "        clear_output()\n",
    "        page_number.value -= 1\n",
    "        update_pagination_buttons()\n",
    "        display_pagination()\n",
    "        display_paginated_results(sorted_results, page_number.value, page_size)\n",
    "        display(widgets.HBox([prev_page_button, next_page_button]))\n",
    "    if page_number.value == 1:\n",
    "        prev_page_button.diasbled = True\n",
    "\n",
    "def next_page(b):\n",
    "    if page_number.value < total_pages:\n",
    "        clear_output()\n",
    "        page_number.value += 1\n",
    "        update_pagination_buttons()\n",
    "        display_pagination()\n",
    "        display_paginated_results(sorted_results, page_number.value, page_size)\n",
    "        display(widgets.HBox([prev_page_button, next_page_button]))\n",
    "    if page_number.value == total_pages:\n",
    "        next_page_button.diasbled = True\n",
    "\n",
    "def update_pagination_buttons():\n",
    "    print(page_number.value)\n",
    "    if page_number.value >= total_pages:\n",
    "        next_page_button.disabled = True\n",
    "        page_number.value = total_pages\n",
    "    else:\n",
    "        next_page_button.disabled = False\n",
    "    \n",
    "    if page_number.value <= 1:\n",
    "        prev_page_button.disabled = True\n",
    "        page_number.value = 1\n",
    "    else:\n",
    "        prev_page_button.disabled = False\n",
    "    \n",
    "def on_key_event(e):\n",
    "    if e.event_type == keyboard.KEY_DOWN:\n",
    "        if e.name == 'enter':\n",
    "            search_button.click()  \n",
    "        elif e.name == 'right':\n",
    "            next_page_button.click() \n",
    "        elif e.name == 'left':\n",
    "            prev_page_button.click()\n",
    "    \n",
    "        \n",
    "# Button click events\n",
    "keyboard.hook(on_key_event)\n",
    "dropdown.observe(on_dropdown_change,  names='value')\n",
    "search_button.on_click(search_game)\n",
    "prev_page_button.on_click(previous_page)\n",
    "next_page_button.on_click(next_page)\n",
    "\n",
    "# Display widgets\n",
    "display(search_box, output)\n",
    "\n"
   ]
  },
  {
   "cell_type": "code",
   "execution_count": null,
   "id": "666d5cfb",
   "metadata": {},
   "outputs": [],
   "source": []
  }
 ],
 "metadata": {
  "kernelspec": {
   "display_name": "Python 3 (ipykernel)",
   "language": "python",
   "name": "python3"
  },
  "language_info": {
   "codemirror_mode": {
    "name": "ipython",
    "version": 3
   },
   "file_extension": ".py",
   "mimetype": "text/x-python",
   "name": "python",
   "nbconvert_exporter": "python",
   "pygments_lexer": "ipython3",
   "version": "3.11.5"
  }
 },
 "nbformat": 4,
 "nbformat_minor": 5
}
